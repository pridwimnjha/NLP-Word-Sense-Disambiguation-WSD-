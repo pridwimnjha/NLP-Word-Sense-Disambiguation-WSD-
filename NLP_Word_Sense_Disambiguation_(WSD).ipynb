{
  "nbformat": 4,
  "nbformat_minor": 0,
  "metadata": {
    "colab": {
      "provenance": []
    },
    "kernelspec": {
      "name": "python3",
      "display_name": "Python 3"
    },
    "language_info": {
      "name": "python"
    }
  },
  "cells": [
    {
      "cell_type": "code",
      "execution_count": null,
      "metadata": {
        "colab": {
          "base_uri": "https://localhost:8080/"
        },
        "id": "xjx2pcTepYmF",
        "outputId": "61d9bb8d-bdec-4d1b-c941-6a6cef4c5ea1"
      },
      "outputs": [
        {
          "output_type": "stream",
          "name": "stdout",
          "text": [
            "Requirement already satisfied: nltk in /usr/local/lib/python3.12/dist-packages (3.9.1)\n",
            "Requirement already satisfied: click in /usr/local/lib/python3.12/dist-packages (from nltk) (8.2.1)\n",
            "Requirement already satisfied: joblib in /usr/local/lib/python3.12/dist-packages (from nltk) (1.5.2)\n",
            "Requirement already satisfied: regex>=2021.8.3 in /usr/local/lib/python3.12/dist-packages (from nltk) (2024.11.6)\n",
            "Requirement already satisfied: tqdm in /usr/local/lib/python3.12/dist-packages (from nltk) (4.67.1)\n"
          ]
        }
      ],
      "source": [
        "! pip install nltk"
      ]
    },
    {
      "cell_type": "code",
      "source": [
        "! pip install transformers torch nltk"
      ],
      "metadata": {
        "colab": {
          "base_uri": "https://localhost:8080/"
        },
        "id": "ooW9LeqqqIZR",
        "outputId": "2cef25cc-ad95-4b82-d23c-40b514466ec8"
      },
      "execution_count": null,
      "outputs": [
        {
          "output_type": "stream",
          "name": "stdout",
          "text": [
            "Requirement already satisfied: transformers in /usr/local/lib/python3.12/dist-packages (4.56.1)\n",
            "Requirement already satisfied: torch in /usr/local/lib/python3.12/dist-packages (2.8.0+cu126)\n",
            "Requirement already satisfied: nltk in /usr/local/lib/python3.12/dist-packages (3.9.1)\n",
            "Requirement already satisfied: filelock in /usr/local/lib/python3.12/dist-packages (from transformers) (3.19.1)\n",
            "Requirement already satisfied: huggingface-hub<1.0,>=0.34.0 in /usr/local/lib/python3.12/dist-packages (from transformers) (0.34.4)\n",
            "Requirement already satisfied: numpy>=1.17 in /usr/local/lib/python3.12/dist-packages (from transformers) (2.0.2)\n",
            "Requirement already satisfied: packaging>=20.0 in /usr/local/lib/python3.12/dist-packages (from transformers) (25.0)\n",
            "Requirement already satisfied: pyyaml>=5.1 in /usr/local/lib/python3.12/dist-packages (from transformers) (6.0.2)\n",
            "Requirement already satisfied: regex!=2019.12.17 in /usr/local/lib/python3.12/dist-packages (from transformers) (2024.11.6)\n",
            "Requirement already satisfied: requests in /usr/local/lib/python3.12/dist-packages (from transformers) (2.32.4)\n",
            "Requirement already satisfied: tokenizers<=0.23.0,>=0.22.0 in /usr/local/lib/python3.12/dist-packages (from transformers) (0.22.0)\n",
            "Requirement already satisfied: safetensors>=0.4.3 in /usr/local/lib/python3.12/dist-packages (from transformers) (0.6.2)\n",
            "Requirement already satisfied: tqdm>=4.27 in /usr/local/lib/python3.12/dist-packages (from transformers) (4.67.1)\n",
            "Requirement already satisfied: typing-extensions>=4.10.0 in /usr/local/lib/python3.12/dist-packages (from torch) (4.15.0)\n",
            "Requirement already satisfied: setuptools in /usr/local/lib/python3.12/dist-packages (from torch) (75.2.0)\n",
            "Requirement already satisfied: sympy>=1.13.3 in /usr/local/lib/python3.12/dist-packages (from torch) (1.13.3)\n",
            "Requirement already satisfied: networkx in /usr/local/lib/python3.12/dist-packages (from torch) (3.5)\n",
            "Requirement already satisfied: jinja2 in /usr/local/lib/python3.12/dist-packages (from torch) (3.1.6)\n",
            "Requirement already satisfied: fsspec in /usr/local/lib/python3.12/dist-packages (from torch) (2025.3.0)\n",
            "Requirement already satisfied: nvidia-cuda-nvrtc-cu12==12.6.77 in /usr/local/lib/python3.12/dist-packages (from torch) (12.6.77)\n",
            "Requirement already satisfied: nvidia-cuda-runtime-cu12==12.6.77 in /usr/local/lib/python3.12/dist-packages (from torch) (12.6.77)\n",
            "Requirement already satisfied: nvidia-cuda-cupti-cu12==12.6.80 in /usr/local/lib/python3.12/dist-packages (from torch) (12.6.80)\n",
            "Requirement already satisfied: nvidia-cudnn-cu12==9.10.2.21 in /usr/local/lib/python3.12/dist-packages (from torch) (9.10.2.21)\n",
            "Requirement already satisfied: nvidia-cublas-cu12==12.6.4.1 in /usr/local/lib/python3.12/dist-packages (from torch) (12.6.4.1)\n",
            "Requirement already satisfied: nvidia-cufft-cu12==11.3.0.4 in /usr/local/lib/python3.12/dist-packages (from torch) (11.3.0.4)\n",
            "Requirement already satisfied: nvidia-curand-cu12==10.3.7.77 in /usr/local/lib/python3.12/dist-packages (from torch) (10.3.7.77)\n",
            "Requirement already satisfied: nvidia-cusolver-cu12==11.7.1.2 in /usr/local/lib/python3.12/dist-packages (from torch) (11.7.1.2)\n",
            "Requirement already satisfied: nvidia-cusparse-cu12==12.5.4.2 in /usr/local/lib/python3.12/dist-packages (from torch) (12.5.4.2)\n",
            "Requirement already satisfied: nvidia-cusparselt-cu12==0.7.1 in /usr/local/lib/python3.12/dist-packages (from torch) (0.7.1)\n",
            "Requirement already satisfied: nvidia-nccl-cu12==2.27.3 in /usr/local/lib/python3.12/dist-packages (from torch) (2.27.3)\n",
            "Requirement already satisfied: nvidia-nvtx-cu12==12.6.77 in /usr/local/lib/python3.12/dist-packages (from torch) (12.6.77)\n",
            "Requirement already satisfied: nvidia-nvjitlink-cu12==12.6.85 in /usr/local/lib/python3.12/dist-packages (from torch) (12.6.85)\n",
            "Requirement already satisfied: nvidia-cufile-cu12==1.11.1.6 in /usr/local/lib/python3.12/dist-packages (from torch) (1.11.1.6)\n",
            "Requirement already satisfied: triton==3.4.0 in /usr/local/lib/python3.12/dist-packages (from torch) (3.4.0)\n",
            "Requirement already satisfied: click in /usr/local/lib/python3.12/dist-packages (from nltk) (8.2.1)\n",
            "Requirement already satisfied: joblib in /usr/local/lib/python3.12/dist-packages (from nltk) (1.5.2)\n",
            "Requirement already satisfied: hf-xet<2.0.0,>=1.1.3 in /usr/local/lib/python3.12/dist-packages (from huggingface-hub<1.0,>=0.34.0->transformers) (1.1.9)\n",
            "Requirement already satisfied: mpmath<1.4,>=1.1.0 in /usr/local/lib/python3.12/dist-packages (from sympy>=1.13.3->torch) (1.3.0)\n",
            "Requirement already satisfied: MarkupSafe>=2.0 in /usr/local/lib/python3.12/dist-packages (from jinja2->torch) (3.0.2)\n",
            "Requirement already satisfied: charset_normalizer<4,>=2 in /usr/local/lib/python3.12/dist-packages (from requests->transformers) (3.4.3)\n",
            "Requirement already satisfied: idna<4,>=2.5 in /usr/local/lib/python3.12/dist-packages (from requests->transformers) (3.10)\n",
            "Requirement already satisfied: urllib3<3,>=1.21.1 in /usr/local/lib/python3.12/dist-packages (from requests->transformers) (2.5.0)\n",
            "Requirement already satisfied: certifi>=2017.4.17 in /usr/local/lib/python3.12/dist-packages (from requests->transformers) (2025.8.3)\n"
          ]
        }
      ]
    },
    {
      "cell_type": "code",
      "source": [
        "import nltk\n",
        "nltk.download('wordnet')\n",
        "nltk.download('omw-1.4')\n",
        "nltk.download('punkt')\n",
        "nltk.download('punkt_tab')"
      ],
      "metadata": {
        "colab": {
          "base_uri": "https://localhost:8080/"
        },
        "id": "jOpohmjzpkKr",
        "outputId": "1c68f23a-982b-4a71-e0e7-aae4e8d293af"
      },
      "execution_count": null,
      "outputs": [
        {
          "output_type": "stream",
          "name": "stderr",
          "text": [
            "[nltk_data] Downloading package wordnet to /root/nltk_data...\n",
            "[nltk_data]   Package wordnet is already up-to-date!\n",
            "[nltk_data] Downloading package omw-1.4 to /root/nltk_data...\n",
            "[nltk_data]   Package omw-1.4 is already up-to-date!\n",
            "[nltk_data] Downloading package punkt to /root/nltk_data...\n",
            "[nltk_data]   Package punkt is already up-to-date!\n",
            "[nltk_data] Downloading package punkt_tab to /root/nltk_data...\n",
            "[nltk_data]   Unzipping tokenizers/punkt_tab.zip.\n"
          ]
        },
        {
          "output_type": "execute_result",
          "data": {
            "text/plain": [
              "True"
            ]
          },
          "metadata": {},
          "execution_count": 5
        }
      ]
    },
    {
      "cell_type": "code",
      "source": [
        "import torch\n",
        "from transformers import BertTokenizer, BertModel\n",
        "from nltk.corpus import wordnet as wn\n",
        "from nltk.tokenize import word_tokenize\n",
        "import numpy as np\n",
        "from sklearn.metrics.pairwise import cosine_similarity\n",
        "\n",
        "# Load BERT\n",
        "tokenizer = BertTokenizer.from_pretrained('bert-base-uncased')\n",
        "model = BertModel.from_pretrained('bert-base-uncased')\n",
        "\n",
        "def embed_text(text):\n",
        "    \"\"\"Embed text using BERT CLS token representation.\"\"\"\n",
        "    inputs = tokenizer(text, return_tensors='pt', truncation=True, max_length=128)\n",
        "    with torch.no_grad():\n",
        "        outputs = model(**inputs)\n",
        "    # CLS token is the first token's embedding\n",
        "    return outputs.last_hidden_state[0, 0].numpy()\n",
        "\n",
        "def get_sense_embeddings(senses):\n",
        "    \"\"\"Compute embeddings for all sense definitions + examples.\"\"\"\n",
        "    embeddings = []\n",
        "    for sense in senses:\n",
        "        gloss = sense.definition()\n",
        "        examples = ' '.join(sense.examples())\n",
        "        text = gloss + ' ' + examples\n",
        "        embeddings.append(embed_text(text))\n",
        "    return np.array(embeddings)\n",
        "\n",
        "def disambiguate(sentence, word):\n",
        "    tokens = word_tokenize(sentence)\n",
        "    senses = wn.synsets(word)\n",
        "    if not senses:\n",
        "        return f\"No senses found for the word '{word}'.\"\n",
        "\n",
        "    # Embed sentence context\n",
        "    context_emb = embed_text(sentence)\n",
        "\n",
        "    # Embed senses definitions\n",
        "    sense_embs = get_sense_embeddings(senses)\n",
        "\n",
        "    # Compute cosine similarity between context and each sense\n",
        "    sims = cosine_similarity([context_emb], sense_embs)[0]\n",
        "\n",
        "    # Pick the best sense\n",
        "    best_idx = sims.argmax()\n",
        "    best_sense = senses[best_idx]\n",
        "\n",
        "    result = {\n",
        "        \"word\": word,\n",
        "        \"sense_name\": best_sense.name(),\n",
        "        \"definition\": best_sense.definition(),\n",
        "        \"examples\": best_sense.examples(),\n",
        "        \"similarity_score\": sims[best_idx]\n",
        "    }\n",
        "    return result\n",
        "\n",
        "# Interactive loop\n",
        "if __name__ == \"__main__\":\n",
        "    print(\"Advanced WSD with BERT embeddings (type 'exit' to quit)\")\n",
        "    while True:\n",
        "        sentence = input(\"\\nEnter a sentence: \")\n",
        "        if sentence.lower() == 'exit':\n",
        "            break\n",
        "        word = input(\"Enter the ambiguous word to disambiguate: \")\n",
        "\n",
        "        output = disambiguate(sentence, word)\n",
        "        if isinstance(output, str):\n",
        "            print(output)\n",
        "        else:\n",
        "            print(f\"\\nWord: {output['word']}\")\n",
        "            print(f\"Best sense: {output['sense_name']}\")\n",
        "            print(f\"Definition: {output['definition']}\")\n",
        "            print(f\"Examples: {output['examples']}\")\n",
        "            print(f\"Similarity Score: {output['similarity_score']:.4f}\")\n"
      ],
      "metadata": {
        "colab": {
          "base_uri": "https://localhost:8080/"
        },
        "id": "G1eLvzDDqQ2v",
        "outputId": "c7812fa7-edb9-4036-bf12-70b8264776d7"
      },
      "execution_count": null,
      "outputs": [
        {
          "name": "stdout",
          "output_type": "stream",
          "text": [
            "Advanced WSD with BERT embeddings (type 'exit' to quit)\n",
            "\n",
            "Enter a sentence: He went to the bank to withdraw money.\n",
            "Enter the ambiguous word to disambiguate: bank\n",
            "\n",
            "Word: bank\n",
            "Best sense: savings_bank.n.02\n",
            "Definition: a container (usually with a slot in the top) for keeping money at home\n",
            "Examples: ['the coin bank was empty']\n",
            "Similarity Score: 0.8633\n",
            "\n",
            "Enter a sentence: She went to the **bat** to buy some equipment for the game.\n",
            "Enter the ambiguous word to disambiguate: bat\n",
            "\n",
            "Word: bat\n",
            "Best sense: cream.v.02\n",
            "Definition: beat thoroughly and conclusively in a competition or fight\n",
            "Examples: ['We licked the other team on Sunday!']\n",
            "Similarity Score: 0.8449\n",
            "\n",
            "Enter a sentence: quit\n",
            "Enter the ambiguous word to disambiguate: exit\n",
            "\n",
            "Word: exit\n",
            "Best sense: exit.v.02\n",
            "Definition: lose the lead\n",
            "Examples: []\n",
            "Similarity Score: 0.9217\n",
            "\n",
            "Enter a sentence: exit\n"
          ]
        }
      ]
    }
  ]
}